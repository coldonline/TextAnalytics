{
 "cells": [
  {
   "cell_type": "markdown",
   "metadata": {},
   "source": [
    "# Assignment 2\n",
    "\n",
    "Matthew Zlotnik\n",
    "\n",
    "Robbie Geoghehan\n",
    "\n",
    "Sebastian Osorio\n",
    "\n",
    "Shivank Sood\n",
    "\n",
    "Vikrant Vaidya"
   ]
  },
  {
   "cell_type": "markdown",
   "metadata": {},
   "source": [
    "### Task A"
   ]
  },
  {
   "cell_type": "code",
   "execution_count": 1,
   "metadata": {},
   "outputs": [],
   "source": [
    "#!pip install selenium\n",
    "# !apt-get -q update # to update ubuntu to correctly run apt install\n",
    "#!apt install -yq chromium-chromedriver\n",
    "#!cp /usr/lib/chromium-browser/chromedriver /usr/bin\n",
    "\n",
    "import sys\n",
    "import pandas as pd\n",
    "#sys.path.insert(0,'/usr/lib/chromium-browser/chromedriver') #Ubuntu - Colab\n",
    "sys.path.insert(0,'C:/Users/sebas/Downloads/chromedriver') #Windows - change user\n",
    "from selenium import webdriver\n",
    "from selenium.webdriver.common.by import By\n",
    "from selenium.webdriver.support.ui import WebDriverWait\n",
    "from selenium.webdriver.support import expected_conditions as EC\n",
    "import time\n",
    "import csv\n",
    "\n",
    "chrome_options = webdriver.ChromeOptions()\n",
    "chrome_options.add_argument('--headless')\n",
    "chrome_options.add_argument('--no-sandbox')\n",
    "chrome_options.add_argument('--disable-dev-shm-usage')"
   ]
  },
  {
   "cell_type": "code",
   "execution_count": 2,
   "metadata": {},
   "outputs": [],
   "source": [
    "## Chrome Headless - faster - no new chrome window - it's magic!:\n",
    "driver = webdriver.Chrome(executable_path='C:/Users/sebas/Downloads/chromedriver', options=chrome_options)\n",
    "\n",
    "## Regular Selenium - slower - can see what's happening, good for debugging:\n",
    "#driver = webdriver.Chrome(executable_path='C:/Users/sebas/Downloads/chromedriver')\n",
    "\n",
    "## Other options:\n",
    "#driver = webdriver.Chrome('chromedriver', options=chrome_options) #Colab\n",
    "#driver= webdriver.Chrome() #Windows + PATH"
   ]
  },
  {
   "cell_type": "code",
   "execution_count": 3,
   "metadata": {},
   "outputs": [],
   "source": [
    "df = pd.DataFrame(columns = ['product_name','product_review','user_rating']) "
   ]
  },
  {
   "cell_type": "code",
   "execution_count": 4,
   "metadata": {},
   "outputs": [],
   "source": [
    "# Reach url with top 250 beers\n",
    "driver.get('https://www.beeradvocate.com/beer/top-rated/')\n"
   ]
  },
  {
   "cell_type": "code",
   "execution_count": 5,
   "metadata": {},
   "outputs": [],
   "source": [
    "#Get top 250 beer links\n",
    "urls =[]\n",
    "a = driver.find_elements_by_xpath('//*[@id=\"ba-content\"]/table/tbody//td[2]/a')\n",
    "for x in a:\n",
    "    urls.append(x.get_attribute('href'))\n"
   ]
  },
  {
   "cell_type": "code",
   "execution_count": 6,
   "metadata": {
    "scrolled": true
   },
   "outputs": [],
   "source": [
    "## for testing with just a couple urls use this:\n",
    "for url in urls[60:63]:\n",
    "\n",
    "## for FULL SCRAPING with ALL URLS use this:\n",
    "#for url in urls:\n",
    "\n",
    "    driver.get(url)\n",
    "#    time.sleep(1) # Only use if in slow connection\n",
    "    reviews = driver.find_elements_by_xpath('//div[@id=\"rating_fullview_content_2\"]')\n",
    "    for review in reviews:\n",
    "\n",
    "        product_name = review.find_element_by_xpath('//h1').text.split('\\n')[0]\n",
    "        user_rating = review.text.split('/')[0]\n",
    "        \n",
    "## Use this for raw text:       \n",
    "        \n",
    "#        product_review= review.text #Get ALL TEXT\n",
    "#       print (len(review.text.split('\\n\\n'))) # For debugging\n",
    "\n",
    "## Use this for inside text - needs work, only does the job perfectly for up to 7 inside brakes:\n",
    "\n",
    "        brks = len(review.text.split('\\n\\n'))\n",
    "        if (brks==4):\n",
    "            product_review= review.text.split('\\n\\n')[1]\n",
    "        elif (brks==5):\n",
    "            product_review= review.text.split('\\n\\n')[1] + '. ' + review.text.split('\\n\\n')[2]\n",
    "        elif (brks==6):\n",
    "            product_review= review.text.split('\\n\\n')[1] + '. ' + review.text.split('\\n\\n')[2]+'. '+review.text.split('\\n\\n')[3]          \n",
    "        elif (brks>6):\n",
    "            product_review= review.text.split('\\n\\n')[1] + '. ' + review.text.split('\\n\\n')[2]+'. '+review.text.split('\\n\\n')[3] + '. ' +review.text.split('\\n\\n')[-2]          \n",
    "\n",
    "## Nevermind this, just a try\n",
    "#for n in range(0,brks-4):\n",
    "#                 product_review = review.text.split('\\n\\n')[n+1] + review.text.split('\\n\\n')[n+2]\n",
    "#        else:\n",
    "#             print('error')\n",
    "\n",
    "        df.loc[len(df)] = [product_name,product_review,user_rating]"
   ]
  },
  {
   "cell_type": "code",
   "execution_count": 7,
   "metadata": {
    "scrolled": true
   },
   "outputs": [
    {
     "data": {
      "text/html": [
       "<div>\n",
       "<style scoped>\n",
       "    .dataframe tbody tr th:only-of-type {\n",
       "        vertical-align: middle;\n",
       "    }\n",
       "\n",
       "    .dataframe tbody tr th {\n",
       "        vertical-align: top;\n",
       "    }\n",
       "\n",
       "    .dataframe thead th {\n",
       "        text-align: right;\n",
       "    }\n",
       "</style>\n",
       "<table border=\"1\" class=\"dataframe\">\n",
       "  <thead>\n",
       "    <tr style=\"text-align: right;\">\n",
       "      <th></th>\n",
       "      <th>product_name</th>\n",
       "      <th>product_review</th>\n",
       "      <th>user_rating</th>\n",
       "    </tr>\n",
       "  </thead>\n",
       "  <tbody>\n",
       "    <tr>\n",
       "      <td>0</td>\n",
       "      <td>Chocolate Rain</td>\n",
       "      <td>I like this variant. Maybe better than the bas...</td>\n",
       "      <td>4.2</td>\n",
       "    </tr>\n",
       "    <tr>\n",
       "      <td>1</td>\n",
       "      <td>Chocolate Rain</td>\n",
       "      <td>This is one of the finest imperial stouts. Tas...</td>\n",
       "      <td>4.68</td>\n",
       "    </tr>\n",
       "    <tr>\n",
       "      <td>2</td>\n",
       "      <td>Chocolate Rain</td>\n",
       "      <td>On tap at Bruery Terreux in Anaheim, CA.. Wow....</td>\n",
       "      <td>4.62</td>\n",
       "    </tr>\n",
       "    <tr>\n",
       "      <td>3</td>\n",
       "      <td>Chocolate Rain</td>\n",
       "      <td>Pours black withi a still, oily look to it. He...</td>\n",
       "      <td>4.1</td>\n",
       "    </tr>\n",
       "    <tr>\n",
       "      <td>4</td>\n",
       "      <td>Chocolate Rain</td>\n",
       "      <td>2015. 18.4% ABV.. Like with all the other Week...</td>\n",
       "      <td>4.45</td>\n",
       "    </tr>\n",
       "    <tr>\n",
       "      <td>...</td>\n",
       "      <td>...</td>\n",
       "      <td>...</td>\n",
       "      <td>...</td>\n",
       "    </tr>\n",
       "    <tr>\n",
       "      <td>70</td>\n",
       "      <td>Beer:Barrel:Time</td>\n",
       "      <td>750ml bottle of the 2017 release. Served in a ...</td>\n",
       "      <td>4.65</td>\n",
       "    </tr>\n",
       "    <tr>\n",
       "      <td>71</td>\n",
       "      <td>Beer:Barrel:Time</td>\n",
       "      <td>It poured a super thick and viscous in the gla...</td>\n",
       "      <td>4.69</td>\n",
       "    </tr>\n",
       "    <tr>\n",
       "      <td>72</td>\n",
       "      <td>Beer:Barrel:Time</td>\n",
       "      <td>Amazing stout but not as good as pappy assassi...</td>\n",
       "      <td>4.67</td>\n",
       "    </tr>\n",
       "    <tr>\n",
       "      <td>73</td>\n",
       "      <td>Beer:Barrel:Time</td>\n",
       "      <td>drank on 12/27/2017. L-very little, tiny, ligh...</td>\n",
       "      <td>4.91</td>\n",
       "    </tr>\n",
       "    <tr>\n",
       "      <td>74</td>\n",
       "      <td>Beer:Barrel:Time</td>\n",
       "      <td>its amazing to have a stout this rich and comp...</td>\n",
       "      <td>4.53</td>\n",
       "    </tr>\n",
       "  </tbody>\n",
       "</table>\n",
       "<p>75 rows × 3 columns</p>\n",
       "</div>"
      ],
      "text/plain": [
       "        product_name                                     product_review  \\\n",
       "0     Chocolate Rain  I like this variant. Maybe better than the bas...   \n",
       "1     Chocolate Rain  This is one of the finest imperial stouts. Tas...   \n",
       "2     Chocolate Rain  On tap at Bruery Terreux in Anaheim, CA.. Wow....   \n",
       "3     Chocolate Rain  Pours black withi a still, oily look to it. He...   \n",
       "4     Chocolate Rain  2015. 18.4% ABV.. Like with all the other Week...   \n",
       "..               ...                                                ...   \n",
       "70  Beer:Barrel:Time  750ml bottle of the 2017 release. Served in a ...   \n",
       "71  Beer:Barrel:Time  It poured a super thick and viscous in the gla...   \n",
       "72  Beer:Barrel:Time  Amazing stout but not as good as pappy assassi...   \n",
       "73  Beer:Barrel:Time  drank on 12/27/2017. L-very little, tiny, ligh...   \n",
       "74  Beer:Barrel:Time  its amazing to have a stout this rich and comp...   \n",
       "\n",
       "   user_rating  \n",
       "0          4.2  \n",
       "1         4.68  \n",
       "2         4.62  \n",
       "3          4.1  \n",
       "4         4.45  \n",
       "..         ...  \n",
       "70        4.65  \n",
       "71        4.69  \n",
       "72        4.67  \n",
       "73        4.91  \n",
       "74        4.53  \n",
       "\n",
       "[75 rows x 3 columns]"
      ]
     },
     "execution_count": 7,
     "metadata": {},
     "output_type": "execute_result"
    }
   ],
   "source": [
    "df"
   ]
  },
  {
   "cell_type": "code",
   "execution_count": 8,
   "metadata": {},
   "outputs": [],
   "source": [
    "#Use if in colab\n",
    "\n",
    "#from google.colab import drive\n",
    "#drive.mount('/content/gdrive')"
   ]
  },
  {
   "cell_type": "code",
   "execution_count": 9,
   "metadata": {
    "scrolled": true
   },
   "outputs": [],
   "source": [
    "#Only uncomment if want CSV output - careful, could overwrite.\n",
    "\n",
    "#df.to_csv(\"reviews.csv\", sep=\"\\t\")\n"
   ]
  },
  {
   "cell_type": "markdown",
   "metadata": {},
   "source": [
    "# Task B"
   ]
  },
  {
   "cell_type": "markdown",
   "metadata": {},
   "source": [
    "I'd like to use using Hoppy, Balanced and complex, but we should all agree on the 3 :)"
   ]
  }
 ],
 "metadata": {
  "kernelspec": {
   "display_name": "Python 3",
   "language": "python",
   "name": "python3"
  },
  "language_info": {
   "codemirror_mode": {
    "name": "ipython",
    "version": 3
   },
   "file_extension": ".py",
   "mimetype": "text/x-python",
   "name": "python",
   "nbconvert_exporter": "python",
   "pygments_lexer": "ipython3",
   "version": "3.7.4"
  }
 },
 "nbformat": 4,
 "nbformat_minor": 4
}
